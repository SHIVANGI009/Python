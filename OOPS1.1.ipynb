{
 "cells": [
  {
   "cell_type": "code",
   "execution_count": 1,
   "id": "40eb17d7-6be7-4f5c-a8f4-cdaa5cd8b63c",
   "metadata": {},
   "outputs": [],
   "source": [
    "# OOPS IN PYTHON IS A WAY OF WRITING CODE USING CLASSES AND OBJECTS TO ORGANIZE IT IN A CLEAN, REUSABLE, AND LOGICAL MANNER.\n",
    "# OOPS CONCEPTs"
   ]
  },
  {
   "cell_type": "code",
   "execution_count": 3,
   "id": "5e455508-d12b-446b-87e1-d936a7c61b87",
   "metadata": {},
   "outputs": [
    {
     "name": "stdout",
     "output_type": "stream",
     "text": [
      "My Name is Shivangi and I am 21 years old\n"
     ]
    }
   ],
   "source": [
    "# CLASS IN PYTHON\n",
    "# CLASS IS A BLUEPRINT FOR CREATING AN OBJECT.IT DEFINE THE ATTRIBUETS AND METHODS THAT THE OBJECTS OF THE CLASS CAN USE.\n",
    "class Student:\n",
    "    def __init__(self,name,age):\n",
    "        self.name=name\n",
    "        self.age=age\n",
    "    def Introduce(self):\n",
    "        print(f\"My Name is {self.name} and I am {self.age} years old\")\n",
    "\n",
    "s1=Student(\"Shivangi\",\"21\")\n",
    "s1.Introduce()"
   ]
  },
  {
   "cell_type": "code",
   "execution_count": 9,
   "id": "db9abb3a-156e-4196-a3f2-d8869a085203",
   "metadata": {},
   "outputs": [
    {
     "name": "stdout",
     "output_type": "stream",
     "text": [
      "Your Order is KitKat Shake and Its Price is ₹180\n"
     ]
    }
   ],
   "source": [
    "# OBJECTS IN PYTHON\n",
    "# AN OBJECT IS AN INSTANCE OF A CLASS. IT IS A REAL WORLD ENTITY THAT HAS ITS OWN SPECIFIC VALUES FOR THE ATTRIBUTES DEFINED IN THE CLASS.\n",
    "class Cafe:\n",
    "    def __init__(self,name,price):\n",
    "        self.name=name\n",
    "        self.price=price\n",
    "    def Order(self):\n",
    "        print(f\"Your Order is {self.name} and Its Price is ₹{self.price}\")\n",
    "\n",
    "c1=Cafe(\"KitKat Shake\",180) # HERE, C1 IS AN OBJECT OR INSTANCE OF THE CLASS CAFE\n",
    "c1.Order()"
   ]
  },
  {
   "cell_type": "code",
   "execution_count": 5,
   "id": "afe1e4bf-8959-4808-bf9e-84b077f4c6e4",
   "metadata": {},
   "outputs": [
    {
     "name": "stdout",
     "output_type": "stream",
     "text": [
      "Total Balance is : 40000\n"
     ]
    }
   ],
   "source": [
    "# ENCAPSULATION IN PYTHON\n",
    "# ENCAPSULATION IS A CONCEPT OF HIDING DATA BY BUNDLING IT WITH METHOD IN THE CLASS AND GIVING LIMITED ACCESS TO THE DATA.\n",
    "class BankAccount:\n",
    "    def __init__(self,balance):\n",
    "        self.__balance=balance\n",
    "    def Deposit(self,amount):\n",
    "        self.__balance+=amount\n",
    "    def Withdraw(self,amount):\n",
    "        if amount<=self.__balance:\n",
    "            self.__balance-=amount\n",
    "        else:\n",
    "            print(\"Insufficient balance!\")\n",
    "    def GetBalance(self):\n",
    "        return self.__balance\n",
    "\n",
    "a1=BankAccount(40000)\n",
    "a1.Deposit(10000)\n",
    "a1.Withdraw(10000)\n",
    "print(\"Total Balance is :\",a1.GetBalance())"
   ]
  },
  {
   "cell_type": "code",
   "execution_count": 10,
   "id": "baac9c63-979e-42f0-817d-4ec8c6b7fcf9",
   "metadata": {},
   "outputs": [
    {
     "name": "stdout",
     "output_type": "stream",
     "text": [
      "Car started\n",
      "Car stopped\n"
     ]
    }
   ],
   "source": [
    "# ABSTRACTION IN PYTHON \n",
    "# ABSTRACTION MEANS HIDING INTERNAL IMPLEMENTATION AND SHOWING ONLY THE NECCESSAY INFORMATION TO THE USER.\n",
    "from abc import ABC, abstractmethod\n",
    "\n",
    "class Vehicle(ABC): # VECHILE IS A PARENT CLASS AND IT IS USED ONLY FOR DESIGNED NOT FOR MAKING OBJECTS.\n",
    "    \n",
    "    # These are empty methods → child must fill them\n",
    "    @abstractmethod\n",
    "    def start(self):\n",
    "        pass\n",
    "    @abstractmethod\n",
    "    def stop(self):\n",
    "        pass\n",
    "\n",
    "class Car(Vehicle):\n",
    "    def start(self):\n",
    "        print(\"Car started\")\n",
    "    def stop(self):\n",
    "        print(\"Car stopped\")\n",
    "\n",
    "c1=Car()\n",
    "c1.start()\n",
    "c1.stop()"
   ]
  },
  {
   "cell_type": "code",
   "execution_count": 12,
   "id": "108ac957-99fb-49d3-a3ad-41929e5bf7ba",
   "metadata": {},
   "outputs": [
    {
     "name": "stdout",
     "output_type": "stream",
     "text": [
      "78.5\n",
      "100\n"
     ]
    }
   ],
   "source": [
    "# POLYMORPHISM IN PYTHON\n",
    "# POLYMORPHISM MEANS USING SAME METHOD NAME IN DIFFERENT CLASSES, WHERE EACH CLASS GIVES IT'S OWN VERSION FOR THAT METHOD.\n",
    "class Shape:\n",
    "    def area(self):\n",
    "        pass\n",
    "\n",
    "class Circle(Shape):\n",
    "    def __init__(self,radius):\n",
    "        self.radius=radius\n",
    "    def area(self):\n",
    "        return 3.14*self.radius*self.radius\n",
    "\n",
    "class Square(Shape):\n",
    "    def __init__(self,side):\n",
    "        self.side=side\n",
    "    def area(self):\n",
    "        return self.side*self.side\n",
    "\n",
    "s1=[Circle(5),Square(10)]\n",
    "for i in s1:\n",
    "    print(i.area())"
   ]
  },
  {
   "cell_type": "code",
   "execution_count": 21,
   "id": "956d2e6c-8be1-41bc-b013-c067ad1dae84",
   "metadata": {},
   "outputs": [
    {
     "name": "stdout",
     "output_type": "stream",
     "text": [
      "this is the parent class\n",
      "this is the child class\n"
     ]
    }
   ],
   "source": [
    "# INHERITANCE IN PYTHON\n",
    "# INHERITANCE MEANS THAT ONE CLASS CAN USE PROPERTIES AND METHODS OF ANOTHER CLASS. THIS HEPLS IN CODE REUSE AND CREATES A RELATIONSHIP BETWEEN CLASSES.\n",
    "# HERE ARE THE DIFFERENT TYPES OF INHERITANCE IN PYTHON:-\n",
    "# 1. SINGLE INHERITANCE : ONE CLASS INHERITS FROM THE ANOTHER CLASS\n",
    "\n",
    "class Parent:\n",
    "    def message(self):\n",
    "        print(\"this is the parent class\")\n",
    "\n",
    "class Child(Parent):\n",
    "    def message2(self):\n",
    "        print(\"this is the child class\")\n",
    "\n",
    "c2=Child()\n",
    "c2.message()\n",
    "c2.message2()"
   ]
  },
  {
   "cell_type": "code",
   "execution_count": 22,
   "id": "03d841c8-dcb6-48af-84ee-90f057481ff5",
   "metadata": {},
   "outputs": [
    {
     "name": "stdout",
     "output_type": "stream",
     "text": [
      "Father: Cooking\n",
      "Mother: Singing\n",
      "Child: Drawing\n"
     ]
    }
   ],
   "source": [
    "# 2. MULTIPLE INHERITANCE : ONE CLASS INHERITS FROM MORE THAN ONE ANOTHER CLASS\n",
    "\n",
    "class Father:\n",
    "    def skill(self):\n",
    "        print(\"Father: Cooking\")\n",
    "\n",
    "class Mother:\n",
    "    def talent(self):\n",
    "        print(\"Mother: Singing\")\n",
    "\n",
    "class Child(Father,Mother):\n",
    "    def hobby(self):\n",
    "        print(\"Child: Drawing\")\n",
    "\n",
    "m1=Child()\n",
    "m1.skill()\n",
    "m1.talent()\n",
    "m1.hobby()"
   ]
  },
  {
   "cell_type": "code",
   "execution_count": 25,
   "id": "e1d34fd4-065c-4973-8f46-f5c0802b8dc9",
   "metadata": {},
   "outputs": [
    {
     "name": "stdout",
     "output_type": "stream",
     "text": [
      "I am Grandfather\n",
      "I am Father\n",
      "I am Son\n"
     ]
    }
   ],
   "source": [
    "# MULTI-LEVEL INHERITANCE: A CHILD CLASS INHERITS FROM A PARENT CLASS, AND THEN ANOTHER CLASS INHERITS FROM THAT CHILD CLASS.\n",
    "class Grandfather:\n",
    "    def show_grandfather(self):\n",
    "        print(\"I am Grandfather\")\n",
    "class Father(Grandfather):\n",
    "    def show_father(self):\n",
    "        print(\"I am Father\")\n",
    "class Son(Father):\n",
    "    def show_son(self):\n",
    "        print(\"I am Son\")\n",
    "obj = Son()\n",
    "obj.show_grandfather()\n",
    "obj.show_father()\n",
    "obj.show_son()"
   ]
  },
  {
   "cell_type": "code",
   "execution_count": null,
   "id": "1614dad5-76c1-4da1-a0ed-d6910bc3d52f",
   "metadata": {},
   "outputs": [],
   "source": []
  }
 ],
 "metadata": {
  "kernelspec": {
   "display_name": "Python 3 (ipykernel)",
   "language": "python",
   "name": "python3"
  },
  "language_info": {
   "codemirror_mode": {
    "name": "ipython",
    "version": 3
   },
   "file_extension": ".py",
   "mimetype": "text/x-python",
   "name": "python",
   "nbconvert_exporter": "python",
   "pygments_lexer": "ipython3",
   "version": "3.12.6"
  }
 },
 "nbformat": 4,
 "nbformat_minor": 5
}
