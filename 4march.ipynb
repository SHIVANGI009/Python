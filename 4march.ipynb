{
 "cells": [
  {
   "cell_type": "code",
   "execution_count": 2,
   "id": "275868a5-53cc-4a63-8bf9-9eebeed75b29",
   "metadata": {},
   "outputs": [
    {
     "name": "stdout",
     "output_type": "stream",
     "text": [
      "largest element in the list 90 , second largest element in the list 87\n"
     ]
    }
   ],
   "source": [
    "# Second largest element in the list\n",
    "mylist=[12,11,19,90,32,87,1]\n",
    "max1=mylist[0]\n",
    "max2=mylist[0]\n",
    "for i in mylist:\n",
    "    if i>max1:\n",
    "        max2=max1\n",
    "        max1=i\n",
    "    elif i>max2 and i!=max1:\n",
    "        max2=i\n",
    "print(f\"largest element in the list {max1} , second largest element in the list {max2}\")"
   ]
  },
  {
   "cell_type": "code",
   "execution_count": 10,
   "id": "2f1ddc76-832f-4f88-9ca9-cec7fd026ed3",
   "metadata": {},
   "outputs": [
    {
     "name": "stdout",
     "output_type": "stream",
     "text": [
      "*******\n",
      " *   * \n",
      "  * *  \n",
      "   *   \n"
     ]
    }
   ],
   "source": [
    "n=4\n",
    "for i in range(n,0,-1):\n",
    "    for j in range(1,2*n):\n",
    "        if(j==n-i+1 or j==n+i-1 or i==n):\n",
    "            print(\"*\",end=\"\")\n",
    "        else:\n",
    "            print(\" \",end=\"\")\n",
    "    print()"
   ]
  },
  {
   "cell_type": "code",
   "execution_count": 13,
   "id": "67dcc0e1-64fe-4ecd-bea4-be702d5a8611",
   "metadata": {},
   "outputs": [
    {
     "name": "stdout",
     "output_type": "stream",
     "text": [
      "4\n"
     ]
    }
   ],
   "source": [
    "str1='shivangi'\n",
    "str2='shaily'\n",
    "count1={}\n",
    "count2={}\n",
    "for i in str1:\n",
    "    if i in count1:\n",
    "        count1[i]+=1\n",
    "    else:\n",
    "        count1[i]=1\n",
    "for i in str2:\n",
    "    if i in count2:\n",
    "        count2[i]+=1\n",
    "    else:\n",
    "        count2[i]=1\n",
    "count3=0\n",
    "for i in count1:\n",
    "    if i in count2:\n",
    "        count3+=min(count1[i],count2[i])\n",
    "print(count3)"
   ]
  },
  {
   "cell_type": "code",
   "execution_count": 22,
   "id": "3f451d91-1214-43a3-af72-0e04ae8ff9a2",
   "metadata": {},
   "outputs": [
    {
     "name": "stdout",
     "output_type": "stream",
     "text": [
      "[2, 4, 6]\n"
     ]
    }
   ],
   "source": [
    "mylist=[1,2,2,3,4,4,5,6,6,7]\n",
    "duplicates=[]\n",
    "unique=[]\n",
    "for i in mylist:\n",
    "    if i in unique and i not in duplicates:\n",
    "        duplicates.append(i)\n",
    "    else:\n",
    "        unique.append(i)\n",
    "print(duplicates)"
   ]
  },
  {
   "cell_type": "code",
   "execution_count": 24,
   "id": "47108290-5768-45e8-82ee-2f8d4bec6176",
   "metadata": {},
   "outputs": [
    {
     "name": "stdout",
     "output_type": "stream",
     "text": [
      "[1, 3, 6, 10, 15]\n"
     ]
    }
   ],
   "source": [
    "mylist=[1,2,3,4,5]\n",
    "sum1=0\n",
    "newlist=[]\n",
    "for i in mylist:\n",
    "    sum1+=i\n",
    "    newlist.append(sum1)\n",
    "print(newlist)"
   ]
  },
  {
   "cell_type": "code",
   "execution_count": 33,
   "id": "96846582-e0ca-4c5e-b787-c24826313f59",
   "metadata": {},
   "outputs": [
    {
     "name": "stdout",
     "output_type": "stream",
     "text": [
      "True\n"
     ]
    }
   ],
   "source": [
    "# list is monotonic or not\n",
    "mylist=[40,30,20,10]\n",
    "inc=True\n",
    "dec=True\n",
    "for i in range(1,len(mylist)):\n",
    "    if mylist[i]>mylist[i-1]:\n",
    "        dec=False\n",
    "    elif mylist[i]<mylist[i-1]:\n",
    "        inc=False\n",
    "mono=inc or dec\n",
    "print(mono)"
   ]
  },
  {
   "cell_type": "code",
   "execution_count": 34,
   "id": "a0294799-6138-49e8-b3c4-c7a3f00ab4ab",
   "metadata": {},
   "outputs": [
    {
     "name": "stdout",
     "output_type": "stream",
     "text": [
      "1 \n",
      "3 3 \n",
      "5 5 5 \n",
      "7 7 7 7 \n",
      "9 9 9 9 9 \n"
     ]
    }
   ],
   "source": [
    "for i in range(1,6):\n",
    "    for j in range(1,i+1):\n",
    "        print(i*2-1,end=\" \")\n",
    "    print()"
   ]
  },
  {
   "cell_type": "code",
   "execution_count": 35,
   "id": "1d106f7e-d3bb-400c-83b6-5587f9f5529a",
   "metadata": {},
   "outputs": [
    {
     "name": "stdout",
     "output_type": "stream",
     "text": [
      "2 \n",
      "4 4 \n",
      "6 6 6 \n",
      "8 8 8 8 \n",
      "10 10 10 10 10 \n"
     ]
    }
   ],
   "source": [
    "for i in range(1,6):\n",
    "    for j in range(1,i+1):\n",
    "        print(i*2,end=\" \")\n",
    "    print()"
   ]
  },
  {
   "cell_type": "code",
   "execution_count": null,
   "id": "473add70-9c76-4305-943f-7a684c8ea8c4",
   "metadata": {},
   "outputs": [],
   "source": [
    "# Rotate array\n"
   ]
  }
 ],
 "metadata": {
  "kernelspec": {
   "display_name": "Python 3 (ipykernel)",
   "language": "python",
   "name": "python3"
  },
  "language_info": {
   "codemirror_mode": {
    "name": "ipython",
    "version": 3
   },
   "file_extension": ".py",
   "mimetype": "text/x-python",
   "name": "python",
   "nbconvert_exporter": "python",
   "pygments_lexer": "ipython3",
   "version": "3.12.6"
  }
 },
 "nbformat": 4,
 "nbformat_minor": 5
}
