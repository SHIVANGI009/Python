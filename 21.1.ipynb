{
 "cells": [
  {
   "cell_type": "code",
   "execution_count": 1,
   "id": "8bef1371-4226-41f8-9e19-d0b53e6d2ffc",
   "metadata": {},
   "outputs": [
    {
     "name": "stdout",
     "output_type": "stream",
     "text": [
      "def\n"
     ]
    }
   ],
   "source": [
    "# DICTIONARY\n",
    "dict1={1:'abc',1:'def'}\n",
    "print(dict1[1])"
   ]
  },
  {
   "cell_type": "code",
   "execution_count": 10,
   "id": "35cc7089-abe4-4a1c-af58-a941efbe99ef",
   "metadata": {},
   "outputs": [
    {
     "name": "stdout",
     "output_type": "stream",
     "text": [
      "{'e': 1, 'a': 2, 'i': 1}\n"
     ]
    }
   ],
   "source": [
    "# print the number of vowels from a string\n",
    "myvowel={}\n",
    "for char in 'heyaia':\n",
    "    if char in 'aeiou':\n",
    "        if char not in myvowel:\n",
    "            myvowel[char]=1\n",
    "        else:\n",
    "            myvowel[char]=myvowel[char]+1\n",
    "print(myvowel)"
   ]
  },
  {
   "cell_type": "code",
   "execution_count": 19,
   "id": "1ad7d26e-2ed3-4365-aea8-12f4ca4babd3",
   "metadata": {},
   "outputs": [
    {
     "name": "stdout",
     "output_type": "stream",
     "text": [
      "{10: 0, 20: 1, 30: 2, 40: 3, 11: 4}\n",
      "Target is match : 40 10\n",
      "Target is match : 30 20\n",
      "Target is match : 20 30\n",
      "Target is match : 10 40\n"
     ]
    }
   ],
   "source": [
    "mylist=[10,20,30,40,11]\n",
    "mydict1={}\n",
    "target=50\n",
    "for i in range(0,len(mylist)):\n",
    "    mydict1[mylist[i]]=i\n",
    "print(mydict1) \n",
    "\n",
    "for i in mylist:\n",
    "    x=target-i\n",
    "    if(x in mydict1):\n",
    "        print('Target is match :',x,i)"
   ]
  },
  {
   "cell_type": "code",
   "execution_count": 34,
   "id": "4f8ad21e-5e3a-4293-ac55-0683062b0f08",
   "metadata": {},
   "outputs": [
    {
     "name": "stdout",
     "output_type": "stream",
     "text": [
      "{65: 'A', 66: 'B', 67: 'C', 68: 'D', 69: 'E', 70: 'F', 71: 'G', 72: 'H', 73: 'I', 74: 'J', 75: 'K', 76: 'L', 77: 'M', 78: 'N', 79: 'O', 80: 'P', 81: 'Q', 82: 'R', 83: 'S', 84: 'T', 85: 'U', 86: 'V', 87: 'W', 88: 'X', 89: 'Y', 90: 'Z'}\n",
      "A\n",
      "B\n",
      "C\n",
      "D\n"
     ]
    }
   ],
   "source": [
    "my_dict1={}\n",
    "for i in range(65,91):\n",
    "    my_dict1[i]=chr(i)\n",
    "print(my_dict1)\n",
    "\n",
    "data1=\"abcd\"\n",
    "for char in data1:\n",
    "    x=ord(char)-32\n",
    "    if(x in my_dict1):\n",
    "        print(my_dict1[x]) "
   ]
  },
  {
   "cell_type": "code",
   "execution_count": 43,
   "id": "47076912-d2a6-4249-8df5-72d54eefcf9e",
   "metadata": {},
   "outputs": [
    {
     "name": "stdout",
     "output_type": "stream",
     "text": [
      "{1, 2, 3, 4, 5, 'a'}\n"
     ]
    }
   ],
   "source": [
    "# SET \n",
    "# SET DO NOT HAVE ANY INDEX POSITION \n",
    "myset={1,2,3,4,'a',5,5}\n",
    "print(myset)"
   ]
  },
  {
   "cell_type": "code",
   "execution_count": 42,
   "id": "93627a8b-da20-4696-a441-af4abf01ce2e",
   "metadata": {},
   "outputs": [
    {
     "name": "stdout",
     "output_type": "stream",
     "text": [
      "{1, 2, 3, 4, 5, 6}\n"
     ]
    }
   ],
   "source": [
    "myset.add(6)\n",
    "print(myset)"
   ]
  },
  {
   "cell_type": "code",
   "execution_count": 54,
   "id": "8ba65b62-b9a0-421a-89c1-7e1b970a10a4",
   "metadata": {},
   "outputs": [],
   "source": [
    "# ZIP\n",
    "# ENUMERATE \n",
    "# UNION , INTERSECTION , DIFFERENCE , DISJOIN , SYMMETRIC DIFFERENCE , SUPERSET , SUBSET"
   ]
  },
  {
   "cell_type": "code",
   "execution_count": 53,
   "id": "62edef20-3c66-4e0e-b435-cf7404387f54",
   "metadata": {},
   "outputs": [
    {
     "name": "stdout",
     "output_type": "stream",
     "text": [
      "{1, 2, 3, 4, 5, 6}\n",
      "{1, 2, 3, 4, 5, 6}\n"
     ]
    }
   ],
   "source": [
    "# UNION : COMBINES UINQUE ELEMENTS FROM BOTH SETS\n",
    "a={1,2,3,5}\n",
    "b={4,5,6,2}\n",
    "print(a|b)\n",
    "print(a.union(b))"
   ]
  },
  {
   "cell_type": "code",
   "execution_count": 52,
   "id": "48d31c48-8762-4df7-860b-b5930e393120",
   "metadata": {},
   "outputs": [
    {
     "name": "stdout",
     "output_type": "stream",
     "text": [
      "{2, 5}\n",
      "{2, 5}\n"
     ]
    }
   ],
   "source": [
    "# INTERSECTION : COMBINES COMMON ELEMENTS FROM BOTH SETS\n",
    "print(a&b)\n",
    "print(a.intersection(b))"
   ]
  },
  {
   "cell_type": "code",
   "execution_count": 2,
   "id": "214762a1-3daa-4823-83c5-a92566b73291",
   "metadata": {},
   "outputs": [
    {
     "name": "stdout",
     "output_type": "stream",
     "text": [
      "shivangi\n",
      "shaily\n"
     ]
    }
   ],
   "source": [
    "myval = {10: 'shivangi', 20 : 'shaily'}\n",
    "for i in myval:\n",
    "    print(myval[i]) "
   ]
  },
  {
   "cell_type": "code",
   "execution_count": 4,
   "id": "ea0583f4-d442-4f6b-8732-4f12f52b9d94",
   "metadata": {},
   "outputs": [
    {
     "data": {
      "text/plain": [
       "dict_items([(10, 'shivangi'), (20, 'shaily')])"
      ]
     },
     "execution_count": 4,
     "metadata": {},
     "output_type": "execute_result"
    }
   ],
   "source": [
    "myval.items()"
   ]
  },
  {
   "cell_type": "code",
   "execution_count": 5,
   "id": "55903860-512c-423b-bd71-ced26552d6ff",
   "metadata": {},
   "outputs": [
    {
     "name": "stdout",
     "output_type": "stream",
     "text": [
      "(10, 'shivangi')\n",
      "(20, 'shaily')\n"
     ]
    }
   ],
   "source": [
    "for i in myval.items():\n",
    "    print(i)"
   ]
  },
  {
   "cell_type": "code",
   "execution_count": 7,
   "id": "41043da8-4268-4584-845f-527d2a260481",
   "metadata": {},
   "outputs": [
    {
     "name": "stdout",
     "output_type": "stream",
     "text": [
      "40\n",
      "10\n",
      "20\n",
      "a\n",
      "30\n"
     ]
    }
   ],
   "source": [
    "# becoz sets are unordered\n",
    "for i in {10,20,30,'a',40}:\n",
    "    print(i)"
   ]
  },
  {
   "cell_type": "code",
   "execution_count": 3,
   "id": "483985a9-e1ed-4dae-8387-43ec6898c894",
   "metadata": {},
   "outputs": [
    {
     "name": "stdout",
     "output_type": "stream",
     "text": [
      "Invalid\n"
     ]
    }
   ],
   "source": [
    "# VALID PARENTHESIS\n",
    "data1=\"{\"\n",
    "mylist1=[]\n",
    "x=False\n",
    "for char in data1:\n",
    "    if char==\"(\" or char==\"{\":\n",
    "        mylist1.append(char)\n",
    "    elif(len(mylist1)>0):\n",
    "        if char==\")\" and \"(\"==mylist1.pop():\n",
    "            x=True\n",
    "        elif char==\"}\" and \"{\"==mylist1.pop():\n",
    "            x=True\n",
    "        else:\n",
    "            x=False\n",
    "\n",
    "if(x==True):\n",
    "    print(\"valid\")\n",
    "else:\n",
    "    print(\"Invalid\")"
   ]
  },
  {
   "cell_type": "code",
   "execution_count": 6,
   "id": "c8eb8247-d464-47c6-aeea-4daa7cf420a9",
   "metadata": {},
   "outputs": [],
   "source": [
    "# PASCAL TRIANGLE\n"
   ]
  },
  {
   "cell_type": "code",
   "execution_count": null,
   "id": "929fded1-a0f9-48a7-a148-1044ece8e6e4",
   "metadata": {},
   "outputs": [],
   "source": []
  }
 ],
 "metadata": {
  "kernelspec": {
   "display_name": "Python 3 (ipykernel)",
   "language": "python",
   "name": "python3"
  },
  "language_info": {
   "codemirror_mode": {
    "name": "ipython",
    "version": 3
   },
   "file_extension": ".py",
   "mimetype": "text/x-python",
   "name": "python",
   "nbconvert_exporter": "python",
   "pygments_lexer": "ipython3",
   "version": "3.12.6"
  }
 },
 "nbformat": 4,
 "nbformat_minor": 5
}
