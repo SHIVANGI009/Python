{
 "cells": [
  {
   "cell_type": "code",
   "execution_count": 9,
   "id": "0ce8185c-0e01-460f-8e76-4eeeeb729316",
   "metadata": {},
   "outputs": [
    {
     "name": "stdout",
     "output_type": "stream",
     "text": [
      "9 \n",
      "8 7 \n",
      "6 5 4 \n",
      "3 2 1 0 \n"
     ]
    }
   ],
   "source": [
    "num=9\n",
    "for i in range(1,5):\n",
    "    for j in range(1,i+1):\n",
    "        print(num,end=' ')\n",
    "        num-=1\n",
    "    print()"
   ]
  },
  {
   "cell_type": "code",
   "execution_count": 18,
   "id": "3800e256-28c0-4436-994e-324170679a24",
   "metadata": {},
   "outputs": [
    {
     "name": "stdout",
     "output_type": "stream",
     "text": [
      "user shivangi hello hey  \n"
     ]
    }
   ],
   "source": [
    "str1='hey hello shivangi user'\n",
    "words=str1.split()\n",
    "str2=' '\n",
    "for i in range(len(words)):\n",
    "    str2=words[i] + ' ' + str2\n",
    "print(str2)"
   ]
  },
  {
   "cell_type": "code",
   "execution_count": 19,
   "id": "02211004-9453-40c9-9f65-672af77a43e8",
   "metadata": {},
   "outputs": [
    {
     "name": "stdout",
     "output_type": "stream",
     "text": [
      "language powerful a is Python  \n"
     ]
    }
   ],
   "source": [
    "sentence = \"Python is a powerful language\"\n",
    "text=sentence.split()\n",
    "sentence1=\" \"\n",
    "for i in range(len(text)):\n",
    "    sentence1=text[i]+\" \"+sentence1\n",
    "print(sentence1)"
   ]
  },
  {
   "cell_type": "code",
   "execution_count": 24,
   "id": "ed958931-6e12-445d-9245-8f2c2685aac3",
   "metadata": {},
   "outputs": [
    {
     "name": "stdout",
     "output_type": "stream",
     "text": [
      "[1, 16, 49, 100]\n"
     ]
    }
   ],
   "source": [
    "mylist=[1,4,7,'hii',10]\n",
    "newlist=[]\n",
    "for i in mylist:\n",
    "    if isinstance(i,int):\n",
    "        newlist.append(i**2)\n",
    "print(newlist)"
   ]
  },
  {
   "cell_type": "code",
   "execution_count": 44,
   "id": "54e88157-3c9d-439a-9594-2614924af461",
   "metadata": {},
   "outputs": [
    {
     "name": "stdout",
     "output_type": "stream",
     "text": [
      "* * * * * \n",
      "  *     * \n",
      "    *   * \n",
      "      * * \n",
      "        * \n"
     ]
    }
   ],
   "source": [
    "n=5\n",
    "for i in range(n,0,-1):\n",
    "    for j in range(n-i):\n",
    "        print(' ',end=' ')\n",
    "    for k in range(1,i+1):\n",
    "        if (k==1 or k==i or i==n):\n",
    "            print('*',end=' ')\n",
    "        else:\n",
    "            print(' ',end=' ')\n",
    "    print()"
   ]
  },
  {
   "cell_type": "code",
   "execution_count": 5,
   "id": "1ae06e96-27b8-49d8-93bd-297a5ba7b00c",
   "metadata": {},
   "outputs": [
    {
     "name": "stdout",
     "output_type": "stream",
     "text": [
      "****\n",
      " ****\n",
      "  ****\n",
      "   ****\n"
     ]
    }
   ],
   "source": [
    "n=4\n",
    "for i in range(n,0,-1):\n",
    "    for j in range(n-i):\n",
    "        print(' ',end='')\n",
    "    for k in range(1,n+1):\n",
    "        print('*',end='')\n",
    "    print()"
   ]
  },
  {
   "cell_type": "code",
   "execution_count": 28,
   "id": "61a89a07-0175-4a3c-b88d-76bd5949dd3a",
   "metadata": {},
   "outputs": [
    {
     "name": "stdout",
     "output_type": "stream",
     "text": [
      "******\n",
      "*    *\n",
      "*    *\n",
      "******\n"
     ]
    }
   ],
   "source": [
    "for i in range(1,5):\n",
    "    for j in range(1,7):\n",
    "        if(i==1 or i==4 or j==1 or j==6):\n",
    "            print('*',end='')\n",
    "        else:\n",
    "            print(' ',end='')\n",
    "    print()"
   ]
  },
  {
   "cell_type": "code",
   "execution_count": 34,
   "id": "ba2fe3e8-ff54-4922-a618-6aee096c1391",
   "metadata": {},
   "outputs": [
    {
     "name": "stdout",
     "output_type": "stream",
     "text": [
      "A\n",
      "AB\n",
      "ABC\n",
      "ABCD\n",
      "ABCDE\n"
     ]
    }
   ],
   "source": [
    "for i in range(1,6):\n",
    "    for j in range(1,i+1):\n",
    "        print(chr(64+j),end='')\n",
    "    print()"
   ]
  },
  {
   "cell_type": "code",
   "execution_count": 35,
   "id": "f88f2d47-5944-4131-922f-4fa8c2ef994a",
   "metadata": {},
   "outputs": [
    {
     "name": "stdout",
     "output_type": "stream",
     "text": [
      "A\n",
      "BB\n",
      "CCC\n",
      "DDDD\n",
      "EEEEE\n"
     ]
    }
   ],
   "source": [
    "for i in range(1,6):\n",
    "    for j in range(1,i+1):\n",
    "        print(chr(64+i),end='')\n",
    "    print()"
   ]
  },
  {
   "cell_type": "code",
   "execution_count": 62,
   "id": "cbbf58d8-98fd-4446-89ac-c831c920c7da",
   "metadata": {},
   "outputs": [
    {
     "name": "stdout",
     "output_type": "stream",
     "text": [
      "E\n",
      "DE\n",
      "CDE\n",
      "BCDE\n",
      "ABCDE\n"
     ]
    }
   ],
   "source": [
    "for i in range(1,6):\n",
    "    for j in range(1,i+1):\n",
    "        print(chr(69-i+j),end='')\n",
    "    print()"
   ]
  },
  {
   "cell_type": "code",
   "execution_count": 65,
   "id": "6fb4bf76-71da-45d9-80c3-5b03a449f30c",
   "metadata": {},
   "outputs": [
    {
     "name": "stdout",
     "output_type": "stream",
     "text": [
      "          * \n",
      "        * * \n",
      "      * * * \n",
      "    * * * * \n",
      "  * * * * * \n"
     ]
    }
   ],
   "source": [
    "n=6\n",
    "for i in range(1,n):\n",
    "    for j in range(n-i):\n",
    "        print(' ',end=' ')\n",
    "    for k in range(1,i+1):\n",
    "        print('*',end=' ')\n",
    "    print()"
   ]
  },
  {
   "cell_type": "code",
   "execution_count": 70,
   "id": "30ccd618-dfcf-4fb5-b2e5-5171a9b1fc7e",
   "metadata": {},
   "outputs": [
    {
     "name": "stdout",
     "output_type": "stream",
     "text": [
      "          1 \n",
      "        1 2 \n",
      "      1 2 3 \n",
      "    1 2 3 4 \n",
      "  1 2 3 4 5 \n"
     ]
    }
   ],
   "source": [
    "n=6\n",
    "for i in range(1,n):\n",
    "    for j in range(n-i):\n",
    "        print(' ',end=' ')\n",
    "    for k in range(1,i+1):\n",
    "        print(k,end=' ')\n",
    "    print()"
   ]
  },
  {
   "cell_type": "code",
   "execution_count": null,
   "id": "5c911320-7f0d-4485-abbf-3335e5e4b0ed",
   "metadata": {},
   "outputs": [],
   "source": []
  }
 ],
 "metadata": {
  "kernelspec": {
   "display_name": "Python 3 (ipykernel)",
   "language": "python",
   "name": "python3"
  },
  "language_info": {
   "codemirror_mode": {
    "name": "ipython",
    "version": 3
   },
   "file_extension": ".py",
   "mimetype": "text/x-python",
   "name": "python",
   "nbconvert_exporter": "python",
   "pygments_lexer": "ipython3",
   "version": "3.12.6"
  }
 },
 "nbformat": 4,
 "nbformat_minor": 5
}
