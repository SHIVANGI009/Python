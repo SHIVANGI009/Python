{
 "cells": [
  {
   "cell_type": "code",
   "execution_count": 36,
   "id": "8076beb7-6af0-4408-b1d9-c2ca5a68879c",
   "metadata": {},
   "outputs": [
    {
     "name": "stdout",
     "output_type": "stream",
     "text": [
      "([2, 4, 6], [1, 3, 5])\n"
     ]
    }
   ],
   "source": [
    "# Question: Write a function that takes a list of integers and returns two separate lists: \n",
    "# one containing all even numbers and the other containing all odd numbers.\n",
    "def func(mylist):\n",
    "    even=[]\n",
    "    odd=[]\n",
    "    for i in list1:\n",
    "        if i%2==0:\n",
    "            even.append(i)\n",
    "        else:\n",
    "            odd.append(i)\n",
    "    print((even,odd)) \n",
    "func([1,2,3,4,5,6])"
   ]
  },
  {
   "cell_type": "code",
   "execution_count": 2,
   "id": "960e07cf-f779-472a-bb50-338e645087b0",
   "metadata": {},
   "outputs": [
    {
     "name": "stdout",
     "output_type": "stream",
     "text": [
      "3 is missing\n"
     ]
    }
   ],
   "source": [
    "# Question: You are given a list of n-1 numbers from 1 to n. Find the missing number.\n",
    "mylist=[1,2,4,5]\n",
    "sum1=0\n",
    "for i in mylist:\n",
    "    sum1+=i\n",
    "\n",
    "n=5\n",
    "sum2=0\n",
    "for i in range(1,n+1):\n",
    "    sum2+=i\n",
    "\n",
    "result=sum2-sum1\n",
    "print(f\"{result} is missing\")"
   ]
  },
  {
   "cell_type": "code",
   "execution_count": 39,
   "id": "4184da4b-df18-4efe-8f3c-368a5adcba9b",
   "metadata": {},
   "outputs": [
    {
     "name": "stdout",
     "output_type": "stream",
     "text": [
      "To\u0000Be\u0000oR\u0000NoT\u0000To\u0000Be!\n"
     ]
    }
   ],
   "source": [
    "# Create a function that takes a string as input and capitalizes a letter if its ASCII code\n",
    "# is even and returns its lower case version if its ASCII code is odd.\n",
    "mystring=(\"to be or not to be!\")\n",
    "result=\"\"\n",
    "for i in mystring:\n",
    "    if (ord(i)%2==0):\n",
    "        result+=chr(ord(i)-32)\n",
    "    else:\n",
    "        result+=i\n",
    "\n",
    "print(result)"
   ]
  },
  {
   "cell_type": "code",
   "execution_count": 17,
   "id": "f813070a-3207-4c31-9d73-9f9ad6e3afe9",
   "metadata": {},
   "outputs": [
    {
     "name": "stdout",
     "output_type": "stream",
     "text": [
      "upplus und bununu\n"
     ]
    }
   ],
   "source": [
    "# Write a function, that replaces all vowels in a string with a specified vowel.\n",
    "str1='apples and banana'\n",
    "vowel='u'\n",
    "vowels='a,e,i,o,u'\n",
    "result=''\n",
    "for i in str1:\n",
    "     if i in vowels:\n",
    "         result+=vowel\n",
    "     else:\n",
    "         result+=i\n",
    "print(result)"
   ]
  },
  {
   "cell_type": "code",
   "execution_count": 29,
   "id": "bc8417fe-7afc-4ac7-9584-9e547ffc1c0b",
   "metadata": {},
   "outputs": [
    {
     "name": "stdout",
     "output_type": "stream",
     "text": [
      "{'s': 'S', 't': 'T', 'u': 'U', 'v': 'V'}\n"
     ]
    }
   ],
   "source": [
    "# Write a function that creates a dictionary with each (key, value) pair being the (lower\n",
    "# case, upper case) versions of a letter, respectively.\n",
    "mylist=['s','t','u','v']\n",
    "mydict={}\n",
    "for i in mylist:\n",
    "    if i not in mydict:\n",
    "        mydict[i]=chr(ord(i)-32)\n",
    "\n",
    "print(mydict)"
   ]
  },
  {
   "cell_type": "code",
   "execution_count": 1,
   "id": "5c32c8c1-a5c3-4b6d-8127-5c18af84ce7a",
   "metadata": {},
   "outputs": [
    {
     "name": "stdout",
     "output_type": "stream",
     "text": [
      "****\n",
      "*  *\n",
      "*  *\n",
      "****\n"
     ]
    }
   ],
   "source": [
    "n=5\n",
    "for i in range(1,n):\n",
    "    for j in range(1,n):\n",
    "        if(i==1 or j==1 or i==4 or j==4):\n",
    "            print(\"*\",end=\"\")\n",
    "        else:\n",
    "            print(\" \",end=\"\")\n",
    "    print()"
   ]
  },
  {
   "cell_type": "code",
   "execution_count": 2,
   "id": "e771f630-b8a6-4844-b98b-9c0dcfc2a6aa",
   "metadata": {},
   "outputs": [
    {
     "name": "stdout",
     "output_type": "stream",
     "text": [
      "1\n",
      "12\n",
      "123\n",
      "1234\n"
     ]
    }
   ],
   "source": [
    "n=5\n",
    "for i in range(1,n):\n",
    "    for j in range(1,i+1):\n",
    "        print(j,end=\"\")\n",
    "    print()"
   ]
  },
  {
   "cell_type": "code",
   "execution_count": 10,
   "id": "c1b00fc8-9c4e-497d-86b4-b14be56df887",
   "metadata": {},
   "outputs": [
    {
     "name": "stdout",
     "output_type": "stream",
     "text": [
      "        1 \n",
      "      2 1 2 \n",
      "    3 2 1 2 3 \n",
      "  4 3 2 1 2 3 4 \n"
     ]
    }
   ],
   "source": [
    "n=5\n",
    "for i in range(1,n):\n",
    "    for j in range(n-i):\n",
    "        print(\" \",end=\" \")\n",
    "    for k in range(i,0,-1):\n",
    "        print(k,end=\" \")\n",
    "    for l in range(2,i+1):\n",
    "        print(l,end=\" \")\n",
    "    print()"
   ]
  },
  {
   "cell_type": "code",
   "execution_count": 14,
   "id": "96cc6c1e-2159-4210-bd00-40205b179b1e",
   "metadata": {},
   "outputs": [
    {
     "name": "stdout",
     "output_type": "stream",
     "text": [
      "******\n",
      " *****\n",
      "  ****\n",
      "   ***\n",
      "    **\n",
      "     *\n"
     ]
    }
   ],
   "source": [
    "n=6\n",
    "for i in range(n,0,-1):\n",
    "    for j in range(n-i):\n",
    "        print(\" \",end=\"\")\n",
    "    for k in range(1,i+1):\n",
    "        print(\"*\",end=\"\")\n",
    "    print()"
   ]
  },
  {
   "cell_type": "code",
   "execution_count": null,
   "id": "c35020d6-461a-4a2b-8727-9dfd98c6bf42",
   "metadata": {},
   "outputs": [],
   "source": []
  }
 ],
 "metadata": {
  "kernelspec": {
   "display_name": "Python 3 (ipykernel)",
   "language": "python",
   "name": "python3"
  },
  "language_info": {
   "codemirror_mode": {
    "name": "ipython",
    "version": 3
   },
   "file_extension": ".py",
   "mimetype": "text/x-python",
   "name": "python",
   "nbconvert_exporter": "python",
   "pygments_lexer": "ipython3",
   "version": "3.12.6"
  }
 },
 "nbformat": 4,
 "nbformat_minor": 5
}
