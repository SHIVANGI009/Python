{
 "cells": [
  {
   "cell_type": "code",
   "execution_count": 4,
   "id": "34460185-3a89-484f-ad36-cbb1cb3200bd",
   "metadata": {},
   "outputs": [
    {
     "name": "stdout",
     "output_type": "stream",
     "text": [
      "65 \n",
      "66 67 \n",
      "68 69 70 \n"
     ]
    }
   ],
   "source": [
    "n=4\n",
    "num=64\n",
    "for i in range(1,n):\n",
    "    for j in range(1,i+1):\n",
    "        num+=1\n",
    "        print(num,end=\" \")\n",
    "    print()"
   ]
  },
  {
   "cell_type": "code",
   "execution_count": 5,
   "id": "7c97180b-2699-48a7-a051-109b1c7ab854",
   "metadata": {},
   "outputs": [
    {
     "name": "stdout",
     "output_type": "stream",
     "text": [
      "A \n",
      "B C \n",
      "D E F \n"
     ]
    }
   ],
   "source": [
    "n=4\n",
    "chr1=64\n",
    "for i in range(1,n):\n",
    "    for j in range(1,i+1):\n",
    "        chr1+=1\n",
    "        print(chr(chr1),end=\" \")\n",
    "    print()"
   ]
  },
  {
   "cell_type": "code",
   "execution_count": 6,
   "id": "7859e9ff-cc9b-41f7-804e-1dbb3b394ecf",
   "metadata": {},
   "outputs": [
    {
     "name": "stdout",
     "output_type": "stream",
     "text": [
      "* * * * * \n",
      "* * * * \n",
      "* * * \n",
      "* * \n",
      "* \n"
     ]
    }
   ],
   "source": [
    "n=5\n",
    "for i in range(n,0,-1):\n",
    "    for j in range(1,i+1):\n",
    "        print(\"*\",end=\" \")\n",
    "    print()"
   ]
  },
  {
   "cell_type": "code",
   "execution_count": 11,
   "id": "43bd22a9-e029-43cd-836d-153dae65a609",
   "metadata": {},
   "outputs": [
    {
     "name": "stdout",
     "output_type": "stream",
     "text": [
      "To Be oR NoT To Be\n"
     ]
    }
   ],
   "source": [
    "def func(str1):\n",
    "    str2=\"\"\n",
    "    for i in str1:\n",
    "        if(i==' '):\n",
    "            str2+=i\n",
    "        elif(ord(i)%2==0):\n",
    "            str2+=chr(ord(i)-32)\n",
    "        else:\n",
    "            str2+=i\n",
    "    print(str2)\n",
    "\n",
    "func(\"to be or not to be\")"
   ]
  },
  {
   "cell_type": "code",
   "execution_count": 14,
   "id": "1b52a4ee-e71f-4b95-86b4-803bdfb50546",
   "metadata": {},
   "outputs": [
    {
     "name": "stdout",
     "output_type": "stream",
     "text": [
      "1\n"
     ]
    }
   ],
   "source": [
    "def func2(a,b,c):\n",
    "    if(a==b==c):\n",
    "        print(3)\n",
    "    elif(a==b or b==c or a==c):\n",
    "        print(2)\n",
    "    else:\n",
    "        print(1)\n",
    "\n",
    "func2(3,2,1)"
   ]
  },
  {
   "cell_type": "code",
   "execution_count": 5,
   "id": "7cd70be5-c55c-43ba-8d05-e3379c9b2500",
   "metadata": {},
   "outputs": [
    {
     "name": "stdout",
     "output_type": "stream",
     "text": [
      "0 1 2 3 4 \n",
      "0 1 2 3 \n",
      "0 1 2 \n",
      "0 1 \n"
     ]
    }
   ],
   "source": [
    "n=4\n",
    "for i in range(n,0,-1):\n",
    "    for j in range(0,i+1):\n",
    "        print(j,end=\" \")\n",
    "    print()"
   ]
  },
  {
   "cell_type": "code",
   "execution_count": 7,
   "id": "7dd0ac7a-b2f0-4153-8634-c61d55f34d38",
   "metadata": {},
   "outputs": [
    {
     "name": "stdout",
     "output_type": "stream",
     "text": [
      "10 11 12 13 14 \n",
      "15 16 17 18 \n",
      "19 20 21 \n",
      "22 23 \n",
      "24 \n"
     ]
    }
   ],
   "source": [
    "n=5\n",
    "num=9\n",
    "for i in range(n,0,-1):\n",
    "    for j in range(1,i+1):\n",
    "        num+=1\n",
    "        print(num,end=\" \")\n",
    "    print()"
   ]
  },
  {
   "cell_type": "code",
   "execution_count": 15,
   "id": "fc4518a7-7508-4159-ae58-50a976aa4f71",
   "metadata": {},
   "outputs": [
    {
     "name": "stdout",
     "output_type": "stream",
     "text": [
      "1 2 3 4 \n",
      "2 3 4 \n",
      "3 4 \n",
      "4 \n"
     ]
    }
   ],
   "source": [
    "n=4\n",
    "for i in range(1,n+1):\n",
    "    for j in range(i,n+1):\n",
    "            print(j,end=\" \")\n",
    "    print()"
   ]
  },
  {
   "cell_type": "code",
   "execution_count": 18,
   "id": "cba56c6e-ab2e-44b3-8999-d75ae2fe9681",
   "metadata": {},
   "outputs": [
    {
     "name": "stdout",
     "output_type": "stream",
     "text": [
      "1 0 1 0 1 \n",
      "1 0 1 0 \n",
      "1 0 1 \n",
      "1 0 \n",
      "1 \n"
     ]
    }
   ],
   "source": [
    "n=5\n",
    "for i in range(n,0,-1):\n",
    "    for j in range(1,i+1):\n",
    "        if(j%2==0):\n",
    "            print(0,end=\" \")\n",
    "        else:\n",
    "            print(1,end=\" \")\n",
    "    print()"
   ]
  },
  {
   "cell_type": "code",
   "execution_count": 2,
   "id": "4a5c64d5-9594-4406-b038-d17d0b12d689",
   "metadata": {},
   "outputs": [
    {
     "name": "stdout",
     "output_type": "stream",
     "text": [
      "1 0 1 0 1 \n",
      "2 0 2 0 \n",
      "3 0 3 \n",
      "4 0 \n",
      "5 \n"
     ]
    }
   ],
   "source": [
    "n=5\n",
    "for i in range(1,n+1):\n",
    "    for j in range(n-i+1):\n",
    "        if(j%2==0):\n",
    "            print(i,end=\" \")\n",
    "        else:\n",
    "            print(0,end=\" \")\n",
    "    print()"
   ]
  },
  {
   "cell_type": "code",
   "execution_count": 7,
   "id": "7fe76395-a6c9-46ad-8743-13bf1a12479f",
   "metadata": {},
   "outputs": [
    {
     "name": "stdout",
     "output_type": "stream",
     "text": [
      "      * \n",
      "    * * * \n",
      "  * * * * * \n"
     ]
    }
   ],
   "source": [
    "n=4\n",
    "for i in range(1,n):\n",
    "    for j in range(n-i):\n",
    "        print(\" \",end=\" \")\n",
    "    for k in range(2*i-1):\n",
    "        print(\"*\",end=\" \")\n",
    "    print()"
   ]
  },
  {
   "cell_type": "code",
   "execution_count": 8,
   "id": "13daadf4-c01c-4bab-95ee-ee42809b275c",
   "metadata": {},
   "outputs": [
    {
     "name": "stdout",
     "output_type": "stream",
     "text": [
      "* * * * * * * \n",
      "  * * * * * \n",
      "    * * * \n",
      "      * \n"
     ]
    }
   ],
   "source": [
    "n=4\n",
    "for i in range(0,n):\n",
    "    for j in range(i,0,-1):\n",
    "        print(\" \",end=\" \")\n",
    "    for k in range(2*n-2*i-1):\n",
    "        print(\"*\",end=\" \")\n",
    "    print()"
   ]
  },
  {
   "cell_type": "code",
   "execution_count": 1,
   "id": "b719b3b3-ee27-4e1a-bbdc-a6bbaa2b92d3",
   "metadata": {},
   "outputs": [
    {
     "data": {
      "text/plain": [
       "'upplus und bununu'"
      ]
     },
     "execution_count": 1,
     "metadata": {},
     "output_type": "execute_result"
    }
   ],
   "source": [
    "# Write a function, that replaces all vowels in a string with a specified vowel.\n",
    "def func(str1):\n",
    "    vowels=\"a,e,i,o,u\"\n",
    "    vowel=\"u\"\n",
    "    str2=\"\"\n",
    "    for i in str1:\n",
    "        if i in vowels:\n",
    "            str2+=vowel\n",
    "        else:\n",
    "            str2+=i\n",
    "    return str2\n",
    "\n",
    "func(\"apples and banana\")"
   ]
  },
  {
   "cell_type": "code",
   "execution_count": 4,
   "id": "6c7322bb-0619-413c-a278-16ec215bc979",
   "metadata": {},
   "outputs": [
    {
     "data": {
      "text/plain": [
       "{'s': 'S', 'v': 'V'}"
      ]
     },
     "execution_count": 4,
     "metadata": {},
     "output_type": "execute_result"
    }
   ],
   "source": [
    "# Write a function that creates a dictionary with each (key, value) pair being the \n",
    "# (lowercase, upper case) versions of a letter, respectively.\n",
    "def func1(list1):\n",
    "    d1={}\n",
    "    for i in list1:\n",
    "        if i not in d1:\n",
    "            d1[i]=chr(ord(i)-32)\n",
    "    return d1\n",
    "\n",
    "func1(['s','v'])"
   ]
  },
  {
   "cell_type": "code",
   "execution_count": 13,
   "id": "7eb8835a-31f2-4e76-b707-e20b39c78546",
   "metadata": {},
   "outputs": [
    {
     "data": {
      "text/plain": [
       "False"
      ]
     },
     "execution_count": 13,
     "metadata": {},
     "output_type": "execute_result"
    }
   ],
   "source": [
    "# Create a function that validates whether three given integers form a Pythagorean triplet. \n",
    "# The sum of the squares of the two smallest integers must equal the square of the largest number to be validated.\n",
    "def func3(a,b,c):\n",
    "    if(a>b and a>c):\n",
    "        if(b**2 + c**2 == a**2):\n",
    "            return True\n",
    "        else:\n",
    "            return False\n",
    "    elif(b>a and b>c):\n",
    "        if(a**2 + c**2 == b**2):\n",
    "            return True\n",
    "        else:\n",
    "            return False\n",
    "    elif(c>a and c>b):\n",
    "        if(a**2 + b**2 == c**2):\n",
    "            return True\n",
    "        else:\n",
    "            return False\n",
    "    else:\n",
    "        return False\n",
    "\n",
    "func3(1,2,3)"
   ]
  },
  {
   "cell_type": "code",
   "execution_count": 39,
   "id": "4586a7e1-4338-4d13-8950-9949e6ee286a",
   "metadata": {},
   "outputs": [
    {
     "data": {
      "text/plain": [
       "['Jung', 'Turing', 'Einstein']"
      ]
     },
     "execution_count": 39,
     "metadata": {},
     "output_type": "execute_result"
    }
   ],
   "source": [
    "# Create a function that takes a list of strings and return a list, sorted from shortest to longest.\n",
    "def func4(l3):\n",
    "     for i in range(0,len(l3)):\n",
    "         for j in range(i+1,len(l3)):\n",
    "             if len(l3[i]) > len(l3[j]):\n",
    "                 l3[i],l3[j] = l3[j],l3[i]\n",
    "     return l3\n",
    "\n",
    "func4([\"Turing\", \"Einstein\", \"Jung\"])"
   ]
  }
 ],
 "metadata": {
  "kernelspec": {
   "display_name": "Python 3 (ipykernel)",
   "language": "python",
   "name": "python3"
  },
  "language_info": {
   "codemirror_mode": {
    "name": "ipython",
    "version": 3
   },
   "file_extension": ".py",
   "mimetype": "text/x-python",
   "name": "python",
   "nbconvert_exporter": "python",
   "pygments_lexer": "ipython3",
   "version": "3.12.6"
  }
 },
 "nbformat": 4,
 "nbformat_minor": 5
}
