{
 "cells": [
  {
   "cell_type": "code",
   "execution_count": 4,
   "id": "d4a2e757-1c35-4c34-ac76-91b3fa6015f9",
   "metadata": {},
   "outputs": [
    {
     "name": "stdout",
     "output_type": "stream",
     "text": [
      "* * * * \n",
      "*     * \n",
      "*     * \n",
      "*     * \n",
      "* * * * \n"
     ]
    }
   ],
   "source": [
    "n=5\n",
    "for i in range(n,0,-1):\n",
    "    for j in range(1,n):\n",
    "        if(i==1 or j==1 or i==5 or j==4):\n",
    "            print(\"*\",end=\" \")\n",
    "        else:\n",
    "            print(\" \",end=\" \")\n",
    "    print()"
   ]
  },
  {
   "cell_type": "code",
   "execution_count": 5,
   "id": "7231d990-e89b-4636-b071-28e12fd39552",
   "metadata": {},
   "outputs": [
    {
     "name": "stdout",
     "output_type": "stream",
     "text": [
      "1 2 3 4 \n",
      "1 2 3 \n",
      "1 2 \n",
      "1 \n"
     ]
    }
   ],
   "source": [
    "n=4\n",
    "for i in range(n,0,-1):\n",
    "    for j in range(1,i+1):\n",
    "        print(j,end=\" \")\n",
    "    print()"
   ]
  },
  {
   "cell_type": "code",
   "execution_count": 17,
   "id": "e6e2b346-72cc-4fe7-9b35-aae0c0119093",
   "metadata": {},
   "outputs": [
    {
     "name": "stdout",
     "output_type": "stream",
     "text": [
      "      1 \n",
      "    2 1 2 \n",
      "  3 2 1 2 3 \n",
      "4 3 2 1 2 3 4 \n"
     ]
    }
   ],
   "source": [
    "n=4\n",
    "for i in range(1,n+1):\n",
    "    for j in range(n-i):\n",
    "        print(\" \",end=\" \")\n",
    "    for k in range(i,0,-1):\n",
    "        print(k,end=\" \")\n",
    "    for l in range(2,i+1):\n",
    "        print(l,end=\" \")\n",
    "    print()"
   ]
  },
  {
   "cell_type": "code",
   "execution_count": 19,
   "id": "895a886c-e2d7-49ee-91c0-e732cf3d8e07",
   "metadata": {},
   "outputs": [
    {
     "name": "stdout",
     "output_type": "stream",
     "text": [
      "*****\n",
      " ****\n",
      "  ***\n",
      "   **\n",
      "    *\n"
     ]
    }
   ],
   "source": [
    "n=5\n",
    "for i in range(n,0,-1):\n",
    "    for j in range(n-i):\n",
    "        print(\" \",end=\"\")\n",
    "    for k in range(1,i+1):\n",
    "        print(\"*\",end=\"\")\n",
    "    print()"
   ]
  },
  {
   "cell_type": "code",
   "execution_count": 6,
   "id": "07841516-9223-4594-a0e4-21f54957d43b",
   "metadata": {},
   "outputs": [
    {
     "name": "stdout",
     "output_type": "stream",
     "text": [
      "1 \n",
      "0 1 \n",
      "1 0 1 \n",
      "0 1 0 1 \n"
     ]
    }
   ],
   "source": [
    "n=4\n",
    "for i in range(1,n+1):\n",
    "    for j in range(1,i+1):\n",
    "        if(i+j)%2==0:\n",
    "            print(1,end=\" \")\n",
    "        else:\n",
    "            print(0,end=\" \")\n",
    "    print()"
   ]
  },
  {
   "cell_type": "code",
   "execution_count": 81,
   "id": "e0db272c-6400-4aa1-b0e9-b1a010f7e854",
   "metadata": {},
   "outputs": [
    {
     "data": {
      "text/plain": [
       "811181"
      ]
     },
     "execution_count": 81,
     "metadata": {},
     "output_type": "execute_result"
    }
   ],
   "source": [
    "# Create a function that squares every digit of a number.\n",
    "def func(n):\n",
    "    str1=str(n)\n",
    "    str2=\" \"\n",
    "    for i in str1:\n",
    "        result=int(i)**2\n",
    "        str2+=str(result)\n",
    "    return int(str2)\n",
    "\n",
    "func(9119)"
   ]
  },
  {
   "cell_type": "code",
   "execution_count": 82,
   "id": "32984272-bfbe-488f-aec9-75e73188d8fe",
   "metadata": {},
   "outputs": [
    {
     "data": {
      "text/plain": [
       "24"
      ]
     },
     "execution_count": 82,
     "metadata": {},
     "output_type": "execute_result"
    }
   ],
   "source": [
    "# Given a string of numbers separated by a comma and space, return the product of the numbers.\n",
    "def func1(s1):\n",
    "    mult1=1\n",
    "    for i in s1.split(\",\"):\n",
    "        mult1*=int(i)\n",
    "    return mult1\n",
    "\n",
    "func1((\"1,2,3,4\"))"
   ]
  },
  {
   "cell_type": "code",
   "execution_count": 91,
   "id": "49bc94ed-296c-4393-bdf0-289676c767f0",
   "metadata": {},
   "outputs": [
    {
     "name": "stdout",
     "output_type": "stream",
     "text": [
      "True\n"
     ]
    }
   ],
   "source": [
    "# Create a function that takes a number as an argument and returns True or False\n",
    "# depending on whether the number is symmetrical or not.\n",
    "def func2(num):\n",
    "    temp=num\n",
    "    sum1=0\n",
    "    while num>0:\n",
    "        rem=num%10\n",
    "        sum1=sum1*10+rem\n",
    "        num=num//10\n",
    "    if(sum1==temp):\n",
    "        print(\"True\")\n",
    "    else:\n",
    "        print(\"False\")\n",
    "\n",
    "func2(1112111)"
   ]
  },
  {
   "cell_type": "code",
   "execution_count": null,
   "id": "3066947e-3fcd-4629-8491-6a7d13133d52",
   "metadata": {},
   "outputs": [],
   "source": []
  }
 ],
 "metadata": {
  "kernelspec": {
   "display_name": "Python 3 (ipykernel)",
   "language": "python",
   "name": "python3"
  },
  "language_info": {
   "codemirror_mode": {
    "name": "ipython",
    "version": 3
   },
   "file_extension": ".py",
   "mimetype": "text/x-python",
   "name": "python",
   "nbconvert_exporter": "python",
   "pygments_lexer": "ipython3",
   "version": "3.12.6"
  }
 },
 "nbformat": 4,
 "nbformat_minor": 5
}
