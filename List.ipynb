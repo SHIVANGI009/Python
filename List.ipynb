{
 "cells": [
  {
   "cell_type": "code",
   "execution_count": 7,
   "id": "5af04abb-4868-4ee9-a0d5-04563c2a3947",
   "metadata": {},
   "outputs": [
    {
     "name": "stdout",
     "output_type": "stream",
     "text": [
      "15\n"
     ]
    }
   ],
   "source": [
    "# Sum of list\n",
    "def l1(a):\n",
    "    sum1=0\n",
    "    for i in a:\n",
    "        sum1+=i\n",
    "    return sum1\n",
    "\n",
    "print(l1([1,2,3,4,5])) "
   ]
  },
  {
   "cell_type": "code",
   "execution_count": 6,
   "id": "03296085-ecb1-4d92-a28d-b42caec33df8",
   "metadata": {},
   "outputs": [
    {
     "name": "stdout",
     "output_type": "stream",
     "text": [
      "6\n"
     ]
    }
   ],
   "source": [
    "# Multiplication of list\n",
    "def l2(b):\n",
    "    total=1\n",
    "    for i in b:\n",
    "        total*=i\n",
    "    return total\n",
    "print(l2([2,3]))"
   ]
  },
  {
   "cell_type": "code",
   "execution_count": 9,
   "id": "71698709-f666-42a8-8a26-d5a6689d031b",
   "metadata": {},
   "outputs": [
    {
     "name": "stdout",
     "output_type": "stream",
     "text": [
      "5\n"
     ]
    }
   ],
   "source": [
    "# Largest number in a list\n",
    "def l3(c):\n",
    "    max1=c[0]\n",
    "    for i in c:\n",
    "        if i>max1:\n",
    "            max1=i\n",
    "    return max1\n",
    "print(l3([1,2,4,5,3]))"
   ]
  },
  {
   "cell_type": "code",
   "execution_count": 10,
   "id": "88e0add0-5217-423d-a912-83cf8bf82148",
   "metadata": {},
   "outputs": [
    {
     "name": "stdout",
     "output_type": "stream",
     "text": [
      "1\n"
     ]
    }
   ],
   "source": [
    "# Smallest number in the list\n",
    "def l4(d):\n",
    "    max2=d[0]\n",
    "    for i in d:\n",
    "        if i<max2:\n",
    "            max2=i\n",
    "    return max2\n",
    "print(l4([4,5,6,1,2,8]))"
   ]
  },
  {
   "cell_type": "code",
   "execution_count": 18,
   "id": "9e7514e1-f5a2-48e9-906a-2b6a515829b7",
   "metadata": {},
   "outputs": [
    {
     "name": "stdout",
     "output_type": "stream",
     "text": [
      "2\n"
     ]
    }
   ],
   "source": [
    "# Count the number of string in list\n",
    "def l5(e):\n",
    "    count=0\n",
    "    for i in e:\n",
    "        if len(i)>1 and i[0] == i[-1]:\n",
    "            count+=1\n",
    "    return count\n",
    "print(l5(['abc','xyz','aba','1221']))"
   ]
  },
  {
   "cell_type": "code",
   "execution_count": 19,
   "id": "e88d8ad7-1c2c-4edf-9fb4-dd881919870b",
   "metadata": {},
   "outputs": [
    {
     "name": "stdout",
     "output_type": "stream",
     "text": [
      "[(2, 1), (1, 2), (1, 2), (2, 3), (4, 4)]\n"
     ]
    }
   ],
   "source": [
    "# Sorted the last element of each tuple\n",
    "def l6(f):\n",
    "    return f[-1]\n",
    "def l7(tuples):\n",
    "    return sorted(tuples,key=l6)\n",
    "\n",
    "print(l7([(1,2),(1, 2), (4, 4), (2, 3), (2, 1)]))"
   ]
  },
  {
   "cell_type": "code",
   "execution_count": 20,
   "id": "9194ccd7-b9f0-427f-a141-4cf276d3adfe",
   "metadata": {},
   "outputs": [
    {
     "name": "stdout",
     "output_type": "stream",
     "text": [
      "{1, 2, 3, 4, 5, 6, 7, 73, 21, 90}\n"
     ]
    }
   ],
   "source": [
    "# Remove duplicates from a list\n",
    "g=[1,2,3,4,5,5,6,73,2,1,7,90,21,3,2,1]\n",
    "duplicate_items=set()\n",
    "unique_items=[]\n",
    "for i in g:\n",
    "    if i not in duplicate_items:\n",
    "        unique_items.append(i)\n",
    "        duplicate_items.add(i)\n",
    "\n",
    "print(duplicate_items)"
   ]
  },
  {
   "cell_type": "code",
   "execution_count": 24,
   "id": "b97c304a-27d5-43da-b81d-82c54cbee31a",
   "metadata": {},
   "outputs": [
    {
     "name": "stdout",
     "output_type": "stream",
     "text": [
      "list is empty\n"
     ]
    }
   ],
   "source": [
    "# Check list is empty or not\n",
    "l=[]\n",
    "if not l:\n",
    "    print(\"list is empty\")\n",
    "else:\n",
    "    print(\"list is not empty\")"
   ]
  },
  {
   "cell_type": "code",
   "execution_count": 25,
   "id": "7d86ff61-bd57-4287-ab15-e045b7cd1d0f",
   "metadata": {},
   "outputs": [
    {
     "name": "stdout",
     "output_type": "stream",
     "text": [
      "[1, 22, 333, 4444, 55555]\n",
      "[1, 22, 333, 4444, 55555]\n"
     ]
    }
   ],
   "source": [
    "# Copy or Clone the list\n",
    "original_list=[1,22,333,4444,55555]\n",
    "new_list=list(original_list)\n",
    "print(original_list)\n",
    "print(new_list) "
   ]
  },
  {
   "cell_type": "code",
   "execution_count": 26,
   "id": "12c01113-36cc-4166-ac51-f601105641f0",
   "metadata": {},
   "outputs": [
    {
     "name": "stdout",
     "output_type": "stream",
     "text": [
      "['every', 'guys']\n"
     ]
    }
   ],
   "source": [
    "# find the list of words that are longer than n from a given list of words.\n",
    "def l8(n,str):\n",
    "    l9=[]\n",
    "    txt=str.split(\" \")\n",
    "    for i in txt:\n",
    "        if len(i)>n:\n",
    "            l9.append(i)\n",
    "    return l9\n",
    "print(l8(3,'hey every one how are you guys'))"
   ]
  },
  {
   "cell_type": "code",
   "execution_count": null,
   "id": "38a595ab-4422-49af-b6fd-40ce306e2604",
   "metadata": {},
   "outputs": [],
   "source": []
  }
 ],
 "metadata": {
  "kernelspec": {
   "display_name": "Python 3 (ipykernel)",
   "language": "python",
   "name": "python3"
  },
  "language_info": {
   "codemirror_mode": {
    "name": "ipython",
    "version": 3
   },
   "file_extension": ".py",
   "mimetype": "text/x-python",
   "name": "python",
   "nbconvert_exporter": "python",
   "pygments_lexer": "ipython3",
   "version": "3.12.2"
  }
 },
 "nbformat": 4,
 "nbformat_minor": 5
}
