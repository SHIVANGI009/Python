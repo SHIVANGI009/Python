{
 "cells": [
  {
   "cell_type": "code",
   "execution_count": 15,
   "id": "2e0dbcba-1201-4056-87dc-4224383c454d",
   "metadata": {},
   "outputs": [
    {
     "name": "stdout",
     "output_type": "stream",
     "text": [
      "150\n",
      "99\n"
     ]
    }
   ],
   "source": [
    "# 1.Second largest element from the list\n",
    "mylist=[11,12,23,42,150,45,89,63,99]\n",
    "max1=mylist[0]\n",
    "max2=mylist[0]\n",
    "for i in mylist:\n",
    "    if(i>max1):\n",
    "        max2=max1\n",
    "        max1=i\n",
    "    elif(i>max2 and i!=max1):\n",
    "        max2=i\n",
    "print(max1)\n",
    "print(max2)"
   ]
  },
  {
   "cell_type": "code",
   "execution_count": 16,
   "id": "4c2f9526-7a99-4b0a-b570-75c0ce6e7f89",
   "metadata": {},
   "outputs": [
    {
     "name": "stdout",
     "output_type": "stream",
     "text": [
      "*********\n",
      " *     * \n",
      "  *   *  \n",
      "   * *   \n",
      "    *    \n"
     ]
    }
   ],
   "source": [
    "# 2.Print the pattern\n",
    "n=5\n",
    "for i in range(n,0,-1):\n",
    "    for j in range(1,2*n):\n",
    "        if(j==n-i+1 or j==n+i-1 or i==n):\n",
    "            print(\"*\",end=\"\")\n",
    "        else:\n",
    "            print(\" \",end=\"\")\n",
    "    print()"
   ]
  },
  {
   "cell_type": "code",
   "execution_count": 17,
   "id": "962ab22a-8d31-4ad2-9e9d-b94dd08b8f67",
   "metadata": {},
   "outputs": [
    {
     "name": "stdout",
     "output_type": "stream",
     "text": [
      "4\n"
     ]
    }
   ],
   "source": [
    "# 3.Count the number of matching character from a pair of string\n",
    "str1='shivangi'\n",
    "str2='shaily'\n",
    "count1={}\n",
    "count2={}\n",
    "for i in str1:\n",
    "    if(i in count1):\n",
    "        count1[i]+=1\n",
    "    else:\n",
    "        count1[i]=1\n",
    "for i in str2:\n",
    "    if(i in count2):\n",
    "        count2[i]+=1\n",
    "    else:\n",
    "        count2[i]=1\n",
    "count3=0\n",
    "for i in count1:\n",
    "    if(i in count2):\n",
    "        count3 += min(count1[i],count2[i])\n",
    "print(count3)"
   ]
  },
  {
   "cell_type": "code",
   "execution_count": 18,
   "id": "8f6a0011-ecb3-4a31-a0cb-9c78c3f59b1c",
   "metadata": {},
   "outputs": [
    {
     "name": "stdout",
     "output_type": "stream",
     "text": [
      "[1, 3, 6, 7]\n"
     ]
    }
   ],
   "source": [
    "# 4.extract duplicates elements in the list\n",
    "mylist=[1,1,2,3,3,4,5,6,6,7,7,8,9,10]\n",
    "duplicates=[]\n",
    "unique=[]\n",
    "for i in mylist:\n",
    "    if(i in unique and i not in duplicates):\n",
    "        duplicates.append(i)\n",
    "    else:\n",
    "        unique.append(i)\n",
    "print(duplicates)"
   ]
  },
  {
   "cell_type": "code",
   "execution_count": 20,
   "id": "1a539671-125d-44ff-b842-374f5adfb1a6",
   "metadata": {},
   "outputs": [
    {
     "name": "stdout",
     "output_type": "stream",
     "text": [
      "[1, 3, 6, 10, 15]\n"
     ]
    }
   ],
   "source": [
    "# 5.Cumulative Sum\n",
    "mylist=[1,2,3,4,5]\n",
    "sum1=0\n",
    "newlist=[]\n",
    "for i in mylist:\n",
    "    sum1+=i\n",
    "    newlist.append(sum1)\n",
    "print(newlist)"
   ]
  },
  {
   "cell_type": "code",
   "execution_count": 30,
   "id": "9c073e28-b7ab-4b45-9486-5790d9e5e9d9",
   "metadata": {},
   "outputs": [
    {
     "name": "stdout",
     "output_type": "stream",
     "text": [
      "True\n"
     ]
    }
   ],
   "source": [
    "# 6.List is Montonic or not\n",
    "num=[1,2,3]\n",
    "inc=True\n",
    "dec=True\n",
    "for i in range(1,len(num)):\n",
    "    if(num[i]>num[i-1]):\n",
    "        dec=False\n",
    "    elif(num[i]<num[i-1]):\n",
    "        inc=False\n",
    "result=inc or dec\n",
    "print(result)"
   ]
  },
  {
   "cell_type": "code",
   "execution_count": 34,
   "id": "c85f9609-8730-4a98-b457-9334a6630a9a",
   "metadata": {},
   "outputs": [
    {
     "name": "stdout",
     "output_type": "stream",
     "text": [
      "1\n",
      "33\n",
      "555\n",
      "7777\n",
      "99999\n"
     ]
    }
   ],
   "source": [
    "# 7.Print the Pattern\n",
    "for i in range(1,6):\n",
    "    for j in range(1,i+1):\n",
    "        print(i*2-1,end=\"\")\n",
    "    print()"
   ]
  },
  {
   "cell_type": "code",
   "execution_count": 3,
   "id": "ec74d11e-7e90-46f8-b6ad-486761090fab",
   "metadata": {},
   "outputs": [
    {
     "name": "stdout",
     "output_type": "stream",
     "text": [
      "[1, 2]\n"
     ]
    }
   ],
   "source": [
    "# 8.Sum II\n",
    "nums=[2,7,11,15]\n",
    "target=9\n",
    "start=0\n",
    "end=len(nums)-1\n",
    "while(start<end):\n",
    "    if(nums[start]+nums[end]>target):\n",
    "        end-=1\n",
    "    elif(nums[start]+nums[end]<target):\n",
    "        start+=1\n",
    "    else:\n",
    "        print([start+1,end+1])\n",
    "        break\n",
    "else:\n",
    "    print(\"No valid pair found\")"
   ]
  },
  {
   "cell_type": "code",
   "execution_count": 4,
   "id": "fbd9cbd0-c203-4cc7-9658-5ab5e4678ab0",
   "metadata": {},
   "outputs": [
    {
     "name": "stdout",
     "output_type": "stream",
     "text": [
      "[4, 5, 6, 1, 2, 3]\n"
     ]
    }
   ],
   "source": [
    "# 9.Rotate Array\n",
    "nums=[1,2,3,4,5,6]\n",
    "k=3\n",
    "size=len(nums)\n",
    "k=k%size\n",
    "myarr=[0]*size\n",
    "for i in range(0,size):\n",
    "    nums[i]\n",
    "    pos=(i+k)%size\n",
    "    myarr[pos]=nums[i]\n",
    "print(myarr)"
   ]
  },
  {
   "cell_type": "code",
   "execution_count": null,
   "id": "c4d4846c-eb44-4847-b83e-6509771ffc1c",
   "metadata": {},
   "outputs": [],
   "source": []
  }
 ],
 "metadata": {
  "kernelspec": {
   "display_name": "Python 3 (ipykernel)",
   "language": "python",
   "name": "python3"
  },
  "language_info": {
   "codemirror_mode": {
    "name": "ipython",
    "version": 3
   },
   "file_extension": ".py",
   "mimetype": "text/x-python",
   "name": "python",
   "nbconvert_exporter": "python",
   "pygments_lexer": "ipython3",
   "version": "3.12.6"
  }
 },
 "nbformat": 4,
 "nbformat_minor": 5
}
