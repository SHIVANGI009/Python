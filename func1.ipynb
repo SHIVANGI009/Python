{
 "cells": [
  {
   "cell_type": "code",
   "execution_count": 5,
   "id": "fae89eac-f024-4d44-b432-5a8475feeb5d",
   "metadata": {},
   "outputs": [
    {
     "name": "stdout",
     "output_type": "stream",
     "text": [
      "True\n",
      "False\n",
      "False\n",
      "True\n"
     ]
    }
   ],
   "source": [
   
  },
  {
   "cell_type": "code",
   "execution_count": 11,
   "id": "d776741a-1582-46b9-8f3a-d8f6e9277c71",
   "metadata": {},
   "outputs": [
    {
     "data": {
      "text/plain": [
       "False"
      ]
     },
     "execution_count": 11,
     "metadata": {},
     "output_type": "execute_result"
    }
   ],
   "source": [
    
  },
  {
   "cell_type": "code",
   "execution_count": 15,
   "id": "b6d58705-1fb7-4654-8e83-07c731f5e29b",
   "metadata": {},
   "outputs": [
    {
     "data": {
      "text/plain": [
       "True"
      ]
     },
     "execution_count": 15,
     "metadata": {},
     "output_type": "execute_result"
    }
   ],
   "source": [
    "def func(nums):\n",
    "    dict1={}\n",
    "    for i in nums:\n",
    "        if i in dict1:\n",
    "            return True\n",
    "        else:\n",
    "            dict1[i]=1\n",
    "    return False    \n",
    "func([11,20,34,22,22])"
   ]
  },
  {
   "cell_type": "code",
   "execution_count": 16,
   "id": "b069541b-79a3-4b28-aca4-ca01e19083e9",
   "metadata": {},
   "outputs": [
    {
     "name": "stdout",
     "output_type": "stream",
     "text": [
      "[1, 3]\n"
     ]
    }
   ],
   "source": [
    "a=[1,2,3,4]\n",
    "target=6\n",
    "for i in range(len(a)):\n",
    "    for j in range(i+1,len(a)):\n",
    "        if a[i]+a[j]==target:\n",
    "            print([i,j])\n",
    "            break\n",
    "    "
   ]
  },
  {
   "cell_type": "code",
   "execution_count": null,
   "id": "a8646f80-573c-4049-845f-191fe396b89c",
   "metadata": {},
   "outputs": [],
   "source": []
  }
 ],
 "metadata": {
  "kernelspec": {
   "display_name": "Python 3 (ipykernel)",
   "language": "python",
   "name": "python3"
  },
  "language_info": {
   "codemirror_mode": {
    "name": "ipython",
    "version": 3
   },
   "file_extension": ".py",
   "mimetype": "text/x-python",
   "name": "python",
   "nbconvert_exporter": "python",
   "pygments_lexer": "ipython3",
   "version": "3.12.2"
  }
 },
 "nbformat": 4,
 "nbformat_minor": 5
}
