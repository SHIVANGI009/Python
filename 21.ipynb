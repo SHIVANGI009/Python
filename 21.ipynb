{
 "cells": [
  {
   "cell_type": "code",
   "execution_count": 2,
   "id": "2194fe99-3b92-4bae-a192-b203106a7eb3",
   "metadata": {},
   "outputs": [
    {
     "name": "stdout",
     "output_type": "stream",
     "text": [
      "[1, 3, 5, 7, 9, 11, 13, 15, 17, 19, 21, 23, 25, 27, 29, 31, 33, 35, 37, 39, 41, 43, 45, 47, 49]\n"
     ]
    }
   ],
   "source": [
    "# Write a program to print the first 25 odd numbers in list\n",
    "mylist=[]\n",
    "for i in range(1,51,2):\n",
    "        mylist.append(i)\n",
    "print(mylist)"
   ]
  },
  {
   "cell_type": "code",
   "execution_count": 3,
   "id": "a3bbf27c-8b8e-4205-b88c-673c37b704aa",
   "metadata": {},
   "outputs": [
    {
     "name": "stdout",
     "output_type": "stream",
     "text": [
      "[1, 3, 5, 7, 9, 11, 13, 15, 17, 19, 21, 23, 25, 27, 29, 31, 33, 35, 37, 39, 41, 43, 45, 47, 49]\n"
     ]
    }
   ],
   "source": [
    "mylist1=[num for num in range(1,51,2)]\n",
    "print(mylist1)"
   ]
  },
  {
   "cell_type": "code",
   "execution_count": 4,
   "id": "99983e3d-669a-4f32-a910-519fcebb3dca",
   "metadata": {},
   "outputs": [
    {
     "name": "stdout",
     "output_type": "stream",
     "text": [
      "abcdABCD\n"
     ]
    }
   ],
   "source": [
    "# Arrange string characters such that lowercase letters should come first\n",
    "str1='aABbcCDd'\n",
    "lower1=''.join(i for i in str1 if i.islower())\n",
    "capital1=''.join(i for i in str1 if not i.islower())\n",
    "\n",
    "result=lower1+capital1\n",
    "print(result)"
   ]
  },
  {
   "cell_type": "code",
   "execution_count": 8,
   "id": "92644cc9-db87-46e4-9e55-60ac68b15e34",
   "metadata": {},
   "outputs": [],
   "source": [
    "# Count all letters, digits, and special symbols from a given string\n",
    "str2=\"P@#yn26at^&i5ve\"\n",
    "   "
   ]
  },
  {
   "cell_type": "code",
   "execution_count": 9,
   "id": "8bddff29-a2d0-4151-8c54-eafbe44abee6",
   "metadata": {},
   "outputs": [],
   "source": [
    "# Write a program to get count of unique values inside a list\n",
    "list1=[1,2,2,3,3,4,4,5,6,6]\n"
   ]
  },
  {
   "cell_type": "code",
   "execution_count": 11,
   "id": "4bca73ff-7a3c-4b15-90ba-dd9676ce1981",
   "metadata": {},
   "outputs": [
    {
     "name": "stdout",
     "output_type": "stream",
     "text": [
      "total even numbers in a list 5\n",
      "total odd numbers in a list 4\n"
     ]
    }
   ],
   "source": [
    "# Write a program to print the count of even and odd number from a list\n",
    "list2=[1,2,3,4,5,6,7,8,9]\n",
    "count_even=0\n",
    "count_odd=0\n",
    "for i in range(len(list2)):\n",
    "    if(i%2==0):\n",
    "        count_even+=1\n",
    "    else:\n",
    "        count_odd+=1\n",
    "print('total even numbers in a list',count_even)\n",
    "print('total odd numbers in a list',count_odd)"
   ]
  },
  {
   "cell_type": "code",
   "execution_count": 12,
   "id": "42893b05-d0fb-43b7-9949-88a9a1792a2d",
   "metadata": {},
   "outputs": [
    {
     "name": "stdout",
     "output_type": "stream",
     "text": [
      "0\n"
     ]
    }
   ],
   "source": [
    "# Write a program to get the smallest number in a list\n",
    "list3=[2,3,4,1,5,6,7,8,2,0]\n",
    "min1=list3[0]\n",
    "for i in list3:\n",
    "    if(i<min1):\n",
    "        min1=i\n",
    "print(min1)"
   ]
  },
  {
   "cell_type": "code",
   "execution_count": 15,
   "id": "7868210a-61fa-4bc6-8b27-20824721b7f5",
   "metadata": {},
   "outputs": [
    {
     "name": "stdout",
     "output_type": "stream",
     "text": [
      "10\n"
     ]
    }
   ],
   "source": [
    "# Write a program to get sum of number of digit in a list\n",
    "list4=[12,34]\n",
    "count=0\n",
    "for i in list4:\n",
    "    for digit in str(i):\n",
    "        count+=int(digit)\n",
    "print(count)"
   ]
  },
  {
   "cell_type": "code",
   "execution_count": 18,
   "id": "92bfd005-c2ad-4234-98c3-012a3308f63c",
   "metadata": {},
   "outputs": [
    {
     "name": "stdout",
     "output_type": "stream",
     "text": [
      "[5, 4, 3, 2, 1]\n"
     ]
    }
   ],
   "source": [
    "# Write a program to reverse a List in Python\n",
    "list5=[1,2,3,4,5]\n",
    "my_list1=[]\n",
    "size=len(list5)-1\n",
    "while size>=0:\n",
    "    my_list1.append(list5[size])\n",
    "    size-=1\n",
    "print(my_list1)"
   ]
  },
  {
   "cell_type": "code",
   "execution_count": 19,
   "id": "10122731-65e2-4103-abce-41f4dc30c55d",
   "metadata": {},
   "outputs": [],
   "source": [
    "# Create a Python set such that it shows the element from both lists in a pair"
   ]
  },
  {
   "cell_type": "code",
   "execution_count": 20,
   "id": "8eb26a7d-be07-4831-8ee5-18284b77e944",
   "metadata": {},
   "outputs": [],
   "source": [
    "# Removal all characters from a string except integers"
   ]
  },
  {
   "cell_type": "code",
   "execution_count": null,
   "id": "6f027599-d061-420a-bdd0-d9931f3ac5b9",
   "metadata": {},
   "outputs": [],
   "source": []
  }
 ],
 "metadata": {
  "kernelspec": {
   "display_name": "Python 3 (ipykernel)",
   "language": "python",
   "name": "python3"
  },
  "language_info": {
   "codemirror_mode": {
    "name": "ipython",
    "version": 3
   },
   "file_extension": ".py",
   "mimetype": "text/x-python",
   "name": "python",
   "nbconvert_exporter": "python",
   "pygments_lexer": "ipython3",
   "version": "3.12.6"
  }
 },
 "nbformat": 4,
 "nbformat_minor": 5
}
